{
 "cells": [
  {
   "cell_type": "code",
   "execution_count": 8,
   "metadata": {
    "collapsed": true
   },
   "outputs": [],
   "source": [
    "import pandas as pd\n",
    "import numpy as np\n",
    "import matplotlib.pyplot as plt\n",
    "import seaborn as sns\n",
    "from scipy import stats"
   ]
  },
  {
   "cell_type": "markdown",
   "metadata": {},
   "source": [
    "### 🧾1. Introduction\n",
    "The online shopping behavior of prospective customers was examined as part of an assignment to help out the marketing arm of a startup. The goal was to analyze November and December customer sessions, the biggest shopping months, and answer the following questions:\n",
    "\n",
    "- How do the purchase rates of new customers differ from those of returning customers?\n",
    "- Which interactions with pages correlate the most in terms of time spent on them?\n",
    "- What would be the chance of getting to 100 sales out of 500 sessions if a new campaign increases the return customer purchase rate by 15%?\n",
    "\n",
    "This analysis adds follow to the marketing operations plan for forecasting Hollywood success in next holiday seasons.\n"
   ]
  },
  {
   "cell_type": "code",
   "execution_count": 4,
   "metadata": {},
   "outputs": [
    {
     "data": {
      "text/html": [
       "<div>\n",
       "<style scoped>\n",
       "    .dataframe tbody tr th:only-of-type {\n",
       "        vertical-align: middle;\n",
       "    }\n",
       "\n",
       "    .dataframe tbody tr th {\n",
       "        vertical-align: top;\n",
       "    }\n",
       "\n",
       "    .dataframe thead th {\n",
       "        text-align: right;\n",
       "    }\n",
       "</style>\n",
       "<table border=\"1\" class=\"dataframe\">\n",
       "  <thead>\n",
       "    <tr style=\"text-align: right;\">\n",
       "      <th></th>\n",
       "      <th>SessionID</th>\n",
       "      <th>Administrative</th>\n",
       "      <th>Administrative_Duration</th>\n",
       "      <th>Informational</th>\n",
       "      <th>Informational_Duration</th>\n",
       "      <th>ProductRelated</th>\n",
       "      <th>ProductRelated_Duration</th>\n",
       "      <th>BounceRates</th>\n",
       "      <th>ExitRates</th>\n",
       "      <th>PageValues</th>\n",
       "      <th>SpecialDay</th>\n",
       "      <th>Weekend</th>\n",
       "      <th>Month</th>\n",
       "      <th>CustomerType</th>\n",
       "      <th>Purchase</th>\n",
       "    </tr>\n",
       "  </thead>\n",
       "  <tbody>\n",
       "    <tr>\n",
       "      <th>0</th>\n",
       "      <td>1</td>\n",
       "      <td>0</td>\n",
       "      <td>0.0</td>\n",
       "      <td>0</td>\n",
       "      <td>0.0</td>\n",
       "      <td>1</td>\n",
       "      <td>0.000000</td>\n",
       "      <td>0.20</td>\n",
       "      <td>0.20</td>\n",
       "      <td>0.0</td>\n",
       "      <td>0.0</td>\n",
       "      <td>False</td>\n",
       "      <td>Feb</td>\n",
       "      <td>Returning_Customer</td>\n",
       "      <td>0.0</td>\n",
       "    </tr>\n",
       "    <tr>\n",
       "      <th>1</th>\n",
       "      <td>2</td>\n",
       "      <td>0</td>\n",
       "      <td>0.0</td>\n",
       "      <td>0</td>\n",
       "      <td>0.0</td>\n",
       "      <td>2</td>\n",
       "      <td>64.000000</td>\n",
       "      <td>0.00</td>\n",
       "      <td>0.10</td>\n",
       "      <td>0.0</td>\n",
       "      <td>0.0</td>\n",
       "      <td>False</td>\n",
       "      <td>Feb</td>\n",
       "      <td>Returning_Customer</td>\n",
       "      <td>0.0</td>\n",
       "    </tr>\n",
       "    <tr>\n",
       "      <th>2</th>\n",
       "      <td>3</td>\n",
       "      <td>0</td>\n",
       "      <td>0.0</td>\n",
       "      <td>0</td>\n",
       "      <td>0.0</td>\n",
       "      <td>1</td>\n",
       "      <td>0.000000</td>\n",
       "      <td>0.20</td>\n",
       "      <td>0.20</td>\n",
       "      <td>0.0</td>\n",
       "      <td>0.0</td>\n",
       "      <td>False</td>\n",
       "      <td>Feb</td>\n",
       "      <td>Returning_Customer</td>\n",
       "      <td>0.0</td>\n",
       "    </tr>\n",
       "    <tr>\n",
       "      <th>3</th>\n",
       "      <td>4</td>\n",
       "      <td>0</td>\n",
       "      <td>0.0</td>\n",
       "      <td>0</td>\n",
       "      <td>0.0</td>\n",
       "      <td>2</td>\n",
       "      <td>2.666667</td>\n",
       "      <td>0.05</td>\n",
       "      <td>0.14</td>\n",
       "      <td>0.0</td>\n",
       "      <td>0.0</td>\n",
       "      <td>False</td>\n",
       "      <td>Feb</td>\n",
       "      <td>Returning_Customer</td>\n",
       "      <td>0.0</td>\n",
       "    </tr>\n",
       "    <tr>\n",
       "      <th>4</th>\n",
       "      <td>5</td>\n",
       "      <td>0</td>\n",
       "      <td>0.0</td>\n",
       "      <td>0</td>\n",
       "      <td>0.0</td>\n",
       "      <td>10</td>\n",
       "      <td>627.500000</td>\n",
       "      <td>0.02</td>\n",
       "      <td>0.05</td>\n",
       "      <td>0.0</td>\n",
       "      <td>0.0</td>\n",
       "      <td>True</td>\n",
       "      <td>Feb</td>\n",
       "      <td>Returning_Customer</td>\n",
       "      <td>0.0</td>\n",
       "    </tr>\n",
       "  </tbody>\n",
       "</table>\n",
       "</div>"
      ],
      "text/plain": [
       "   SessionID  Administrative  Administrative_Duration  Informational  \\\n",
       "0          1               0                      0.0              0   \n",
       "1          2               0                      0.0              0   \n",
       "2          3               0                      0.0              0   \n",
       "3          4               0                      0.0              0   \n",
       "4          5               0                      0.0              0   \n",
       "\n",
       "   Informational_Duration  ProductRelated  ProductRelated_Duration  \\\n",
       "0                     0.0               1                 0.000000   \n",
       "1                     0.0               2                64.000000   \n",
       "2                     0.0               1                 0.000000   \n",
       "3                     0.0               2                 2.666667   \n",
       "4                     0.0              10               627.500000   \n",
       "\n",
       "   BounceRates  ExitRates  PageValues  SpecialDay  Weekend Month  \\\n",
       "0         0.20       0.20         0.0         0.0    False   Feb   \n",
       "1         0.00       0.10         0.0         0.0    False   Feb   \n",
       "2         0.20       0.20         0.0         0.0    False   Feb   \n",
       "3         0.05       0.14         0.0         0.0    False   Feb   \n",
       "4         0.02       0.05         0.0         0.0     True   Feb   \n",
       "\n",
       "         CustomerType  Purchase  \n",
       "0  Returning_Customer       0.0  \n",
       "1  Returning_Customer       0.0  \n",
       "2  Returning_Customer       0.0  \n",
       "3  Returning_Customer       0.0  \n",
       "4  Returning_Customer       0.0  "
      ]
     },
     "execution_count": 4,
     "metadata": {},
     "output_type": "execute_result"
    }
   ],
   "source": [
    "import pandas as pd\n",
    "\n",
    "# Load and preview data\n",
    "shopping_data = pd.read_csv(\"online_shopping_session_data.csv\")\n",
    "shopping_data.head()"
   ]
  },
  {
   "cell_type": "markdown",
   "metadata": {},
   "source": [
    "### 📦 2.Loading and Previewing the Data\n",
    "First, I loaded the dataset and previewed the structure to understand the columns and types of variables.\n"
   ]
  },
  {
   "cell_type": "markdown",
   "metadata": {},
   "source": [
    "This collection of data consists of the behavior of visitors to an online shopping site during particular online shopping sessions. This research was conducted over the span of one year, gathering information that includes:\n",
    "\n",
    "👤 Customer activity - describes what type of website pages users have visited (account, info, product).\n",
    "\n",
    "⏱️ Time spent  - seconds each user spent on each page type before leaving the site.\n",
    "\n",
    "📉 Engagement metrics - Bounce rates, exit rates, page value.\n",
    "\n",
    "📅 Timing - Month of session - weekend.\n",
    "\n",
    "🔁 Customer type - New vs. returning customers.\n",
    "\n",
    "💳 Purchase - Binary label for that session purchase exhibit: 0 or 1. \n"
   ]
  },
  {
   "cell_type": "markdown",
   "metadata": {},
   "source": [
    "📅 3. Filtering for November and December\n",
    "Since we’re focusing on holiday shopping trends, I filtered the data to include only November and December.\n"
   ]
  },
  {
   "cell_type": "code",
   "execution_count": 9,
   "metadata": {},
   "outputs": [
    {
     "name": "stdout",
     "output_type": "stream",
     "text": [
      "Nov    2861\n",
      "Dec    1589\n",
      "Name: Month, dtype: int64\n"
     ]
    },
    {
     "data": {
      "image/png": "[encoded data removed]",
      "text/plain": [
       "<Figure size 432x288 with 1 Axes>"
      ]
     },
     "metadata": {},
     "output_type": "display_data"
    }
   ],
   "source": [
    "# Subset data for Nov and Dec\n",
    "shopping_Nov_Dec = shopping_data[shopping_data['Month'].isin(['Nov', 'Dec'])]\n",
    "\n",
    "# Check months present\n",
    "print(shopping_Nov_Dec['Month'].value_counts())\n",
    "\n",
    "# Visual: Pie chart of session distribution\n",
    "shopping_Nov_Dec['Month'].value_counts().plot(kind='pie', autopct='%1.1f%%', startangle=90, colors=['lightblue', 'lightgreen'])\n",
    "plt.title(\"Sessions in November vs December\")\n",
    "plt.ylabel(\"\")  # Hide y-label\n",
    "plt.show()"
   ]
  },
  {
   "cell_type": "markdown",
   "metadata": {},
   "source": [
    "### 🛍️ 4. Purchase Rates: New vs Returning Customers"
   ]
  },
  {
   "cell_type": "code",
   "execution_count": 10,
   "metadata": {},
   "outputs": [
    {
     "name": "stdout",
     "output_type": "stream",
     "text": [
      "{'Returning_Customer': 0.1955937667920473, 'New_Customer': 0.2733516483516483}\n"
     ]
    }
   ],
   "source": [
    "# Count sessions by type and purchase\n",
    "session_counts = shopping_Nov_Dec.groupby(['CustomerType'])['Purchase'].value_counts()\n",
    "\n",
    "# Extract required numbers\n",
    "total_new = np.sum(session_counts['New_Customer'])\n",
    "total_returning = np.sum(session_counts['Returning_Customer'])\n",
    "purch_new = session_counts[('New_Customer', 1)]\n",
    "purch_returning = session_counts[('Returning_Customer', 1)]\n",
    "\n",
    "# Calculate rates\n",
    "rate_new = purch_new / total_new\n",
    "rate_returning = purch_returning / total_returning\n",
    "purchase_rates = {\"Returning_Customer\": rate_returning, \"New_Customer\": rate_new}\n",
    "print(purchase_rates)\n"
   ]
  },
  {
   "cell_type": "markdown",
   "metadata": {},
   "source": [
    "I compared purchase rates between new and returning customers during November and December. Surprisingly, new customers had a higher purchase rate than returning ones."
   ]
  },
  {
   "cell_type": "code",
   "execution_count": 11,
   "metadata": {},
   "outputs": [
    {
     "data": {
      "image/png": "[encoded data removed]",
      "text/plain": [
       "<Figure size 432x288 with 1 Axes>"
      ]
     },
     "metadata": {
      "needs_background": "light"
     },
     "output_type": "display_data"
    }
   ],
   "source": [
    "labels = list(purchase_rates.keys())\n",
    "values = list(purchase_rates.values())\n",
    "\n",
    "plt.bar(labels, values, color=[\"orange\", \"green\"])\n",
    "plt.ylabel(\"Purchase Rate\")\n",
    "plt.title(\"Purchase Rate: New vs Returning Customers (Nov & Dec)\")\n",
    "plt.ylim(0, max(values)*1.2)\n",
    "plt.show()\n"
   ]
  },
  {
   "cell_type": "markdown",
   "metadata": {},
   "source": [
    "### 🔍 5. Correlation of Time Spent on Page Types"
   ]
  },
  {
   "cell_type": "markdown",
   "metadata": {},
   "source": [
    "Next, I checked how strongly time spent on different types of pages are correlated. The strongest correlation was between __Administrative_Duration__ and __ProductRelated_Duration__, indicating that customers who explore their account also spend time on products."
   ]
  },
  {
   "cell_type": "code",
   "execution_count": 12,
   "metadata": {},
   "outputs": [
    {
     "name": "stdout",
     "output_type": "stream",
     "text": [
      "                         Administrative_Duration  Informational_Duration  \\\n",
      "Administrative_Duration                 1.000000                0.244689   \n",
      "Informational_Duration                  0.244689                1.000000   \n",
      "ProductRelated_Duration                 0.389855                0.367126   \n",
      "\n",
      "                         ProductRelated_Duration  \n",
      "Administrative_Duration                 0.389855  \n",
      "Informational_Duration                  0.367126  \n",
      "ProductRelated_Duration                 1.000000  \n"
     ]
    }
   ],
   "source": [
    "# Select duration columns\n",
    "duration_cols = ['Administrative_Duration', 'Informational_Duration', 'ProductRelated_Duration']\n",
    "\n",
    "# Correlation matrix\n",
    "corr_matrix = shopping_Nov_Dec[duration_cols].corr()\n",
    "print(corr_matrix)\n"
   ]
  },
  {
   "cell_type": "code",
   "execution_count": 13,
   "metadata": {},
   "outputs": [
    {
     "data": {
      "image/png": "[encoded data removed]",
      "text/plain": [
       "<Figure size 432x288 with 2 Axes>"
      ]
     },
     "metadata": {
      "needs_background": "light"
     },
     "output_type": "display_data"
    }
   ],
   "source": [
    "sns.heatmap(corr_matrix, annot=True, cmap=\"coolwarm\")\n",
    "plt.title(\"Correlation Between Duration Features\")\n",
    "plt.show()\n"
   ]
  },
  {
   "cell_type": "code",
   "execution_count": 24,
   "metadata": {},
   "outputs": [
    {
     "name": "stdout",
     "output_type": "stream",
     "text": [
      "the top correlation was among: {'pair': ('Administrative_Duration', 'ProductRelated_Duration'), 'correlation': 0.38985460032069696}\n"
     ]
    }
   ],
   "source": [
    "cor_admin_product = corr_matrix.loc['Administrative_Duration', 'ProductRelated_Duration']\n",
    "top_correlation = {\"pair\": ('Administrative_Duration', 'ProductRelated_Duration'), \"correlation\": cor_admin_product}\n",
    "#print(top_correlation)\n",
    "\n",
    "print(\"the top correlation was among:\", top_correlation )"
   ]
  },
  {
   "cell_type": "markdown",
   "metadata": {},
   "source": [
    "### 📈 6. Estimating Campaign Success (Binomial Probability)"
   ]
  },
  {
   "cell_type": "markdown",
   "metadata": {},
   "source": [
    "This analysis provided three key takeaways:\n",
    "\n",
    "- New customers currently have a higher purchase rate than returning ones during Nov-Dec.\n",
    "- Time spent on administrative and product-related pages is strongly correlated.\n",
    "- A modest campaign improvement (15%) can significantly raise the chance of hitting sales goals.\n",
    "\n",
    "These insights can help target future campaigns more effectively.\n"
   ]
  },
  {
   "cell_type": "code",
   "execution_count": 25,
   "metadata": {},
   "outputs": [
    {
     "name": "stdout",
     "output_type": "stream",
     "text": [
      "Boosted purchase rate: 0.22493283181085436\n",
      "Probability of at least 100 sales: 0.919\n"
     ]
    }
   ],
   "source": [
    "# Boosted rate\n",
    "boosted_rate = 1.15 * rate_returning\n",
    "print(\"Boosted purchase rate:\", boosted_rate)\n",
    "\n",
    "# Binomial probability\n",
    "prob_less_than_100 = stats.binom.cdf(k=99, n=500, p=boosted_rate)\n",
    "prob_at_least_100 = 1 - prob_less_than_100\n",
    "print(\"Probability of at least 100 sales:\", round(prob_at_least_100, 3))"
   ]
  },
  {
   "cell_type": "code",
   "execution_count": 34,
   "metadata": {},
   "outputs": [
    {
     "data": {
      "image/png": "[encoded data removed]",
      "text/plain": [
       "<Figure size 720x288 with 1 Axes>"
      ]
     },
     "metadata": {
      "needs_background": "light"
     },
     "output_type": "display_data"
    }
   ],
   "source": [
    "from matplotlib import patches\n",
    "\n",
    "# Focused k values\n",
    "k_vals = np.arange(500)\n",
    "binom_probs = stats.binom.pmf(k_vals, 500, boosted_rate)\n",
    "\n",
    "# Define the zoom range\n",
    "zoom_range = (k_vals >= 50) & (k_vals <= 150)\n",
    "success_range = (k_vals >= 100) & (k_vals <= 150)\n",
    "\n",
    "plt.figure(figsize=(10, 4))\n",
    "\n",
    "# Plot full bar chart in light blue\n",
    "plt.bar(k_vals[zoom_range], np.array(binom_probs)[zoom_range], color='skyblue', edgecolor='gray')\n",
    "\n",
    "# Shade area where sales ≥ 100 (success)\n",
    "plt.bar(k_vals[success_range], np.array(binom_probs)[success_range], color='lightgreen', edgecolor='gray', label='P(Sales ≥ 100)')\n",
    "\n",
    "# Add red dashed line at 100\n",
    "plt.axvline(100, color='red', linestyle='dashed', linewidth=2, label='Target = 100 Sales')\n",
    "\n",
    "# Labels & Title\n",
    "plt.title(\"Binomial Distribution: Probability of Achieving ≥100 Sales\")\n",
    "plt.xlabel(\"Number of Sales (out of 500 sessions)\")\n",
    "plt.ylabel(\"Probability\")\n",
    "plt.legend()\n",
    "plt.tight_layout()\n",
    "plt.show()\n",
    "\n"
   ]
  },
  {
   "cell_type": "markdown",
   "metadata": {},
   "source": [
    "📌 Summary: We modeled the number of purchases generated during 500 customer sessions over a binomial distribution after applying a 15% boost in the rate of purchase with our planned marketing campaign.\n"
   ]
  },
  {
   "cell_type": "markdown",
   "metadata": {},
   "source": [
    "### Key takeaways\n",
    "This analysis showed three key takeaways:\n",
    "\n",
    "✅ Key Insights: The probability of getting a minimum of 100 purchases out of these 500 sessions is a very high probability as seen by the larger green area on the chart.\n",
    "\n",
    "This means that the marketing campaign can be viewed as having a statistical likelihood of success provided the 15% increase in purchase rate stands up.\n",
    "\n",
    "- New customers currently have a higher purchase rate during Nov-Dec than returning ones.\n",
    "- Time spent administrating and viewing products has a strong correlation.\n",
    "- An increase of 15% in an average campaign would greatly improve chances of meeting sales objectives.\n",
    "\n",
    "Such insights will help in targeting future campaigns.\n"
   ]
  }
 ],
 "metadata": {
  "kernelspec": {
   "display_name": "Python 3.8",
   "language": "python",
   "name": "python38"
  },
  "language_info": {
   "codemirror_mode": {
    "name": "ipython",
    "version": 3
   },
   "file_extension": ".py",
   "mimetype": "text/x-python",
   "name": "python",
   "nbconvert_exporter": "python",
   "pygments_lexer": "ipython3",
   "version": "3.8.7"
  }
 },
 "nbformat": 4,
 "nbformat_minor": 2
}
